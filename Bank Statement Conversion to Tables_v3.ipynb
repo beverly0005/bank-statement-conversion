{
 "cells": [
  {
   "cell_type": "markdown",
   "id": "98e6e379",
   "metadata": {},
   "source": [
    "# Import Libraries"
   ]
  },
  {
   "cell_type": "code",
   "execution_count": null,
   "id": "18c57a35",
   "metadata": {
    "ExecuteTime": {
     "end_time": "2023-09-10T03:46:22.624272Z",
     "start_time": "2023-09-10T03:46:22.061389Z"
    }
   },
   "outputs": [],
   "source": [
    "# Need to install java first to use \"read_pdf\"\n",
    "from tabula.io import read_pdf\n",
    "import pandas as pd\n",
    "from datetime import datetime\n",
    "import PyPDF2\n",
    "from bank_utils import *\n",
    "\n",
    "import os\n",
    "import warnings\n",
    "warnings.filterwarnings('ignore')"
   ]
  },
  {
   "cell_type": "code",
   "execution_count": null,
   "id": "0b558758",
   "metadata": {
    "ExecuteTime": {
     "end_time": "2023-09-10T03:46:22.632648Z",
     "start_time": "2023-09-10T03:46:22.624272Z"
    }
   },
   "outputs": [],
   "source": [
    "CITI_PATH = 'FOLDER/TO/SAVE/CITI/STATEMENTS/'\n",
    "DBS_PATH = 'FOLDER/TO/SAVE/DBS/BANK/STATEMENT/'\n",
    "DBS_CREDIT_PATH = 'FOLDER/TO/SAVE/DBS/CREDIT/STATEMENT/'\n",
    "OCBC_PATH = 'FOLDER/TO/SAVE/OCBC/BANK/STATEMENT/'\n",
    "FINAL_PATH = 'FOLDER/TO/SAVE/PROCESSED/TABLES/'"
   ]
  },
  {
   "cell_type": "markdown",
   "id": "60307a47",
   "metadata": {},
   "source": [
    "## CITI Credit"
   ]
  },
  {
   "cell_type": "code",
   "execution_count": null,
   "id": "f36ea3f5",
   "metadata": {
    "ExecuteTime": {
     "end_time": "2023-09-10T03:46:22.739889Z",
     "start_time": "2023-09-10T03:46:22.733362Z"
    }
   },
   "outputs": [],
   "source": [
    "credit_files = [i for i in os.listdir(CITI_PATH) if i[:19]=='Citibank_CreditCard']"
   ]
  },
  {
   "cell_type": "code",
   "execution_count": null,
   "id": "aad0dedf",
   "metadata": {
    "ExecuteTime": {
     "end_time": "2023-09-10T03:46:27.538290Z",
     "start_time": "2023-09-10T03:46:22.739889Z"
    },
    "scrolled": true
   },
   "outputs": [],
   "source": [
    "%%time\n",
    "\n",
    "# Save all processed tables into a dictionary, of which key is the table name, value is the table\n",
    "tbls = dict()\n",
    "tbl_names = []\n",
    "for file in credit_files:\n",
    "    print(file)\n",
    "    \n",
    "    credit_file = CITI_PATH + file\n",
    "    try:\n",
    "        tbl = convert_df(credit_file, page_range=[2,3], bank='Citi')\n",
    "    except: # if only one page contains table\n",
    "        tbl = convert_df(credit_file, page_range=[2], bank='Citi')\n",
    "        \n",
    "    tbl = post_process(tbl, bank='Citi', file=file)\n",
    "    tbl['Date'] = pd.to_datetime(tbl['Date'], yearfirst=True)\n",
    "    if file[-24:-22] == '01': #correct the date for January report: its Dec refers to previous year\n",
    "        tbl.loc[tbl['Date'].dt.month==12, 'Date'] = tbl.loc[\n",
    "            tbl['Date'].dt.month==12, 'Date'] - pd.DateOffset(years=1)\n",
    "    \n",
    "    tbl_names.append(file[:-18])\n",
    "    tbls[file[:-18]] = tbl"
   ]
  },
  {
   "cell_type": "markdown",
   "id": "8c701cf9",
   "metadata": {},
   "source": [
    "### Validate"
   ]
  },
  {
   "cell_type": "code",
   "execution_count": null,
   "id": "7aaeb59f",
   "metadata": {
    "ExecuteTime": {
     "end_time": "2023-09-10T03:46:27.558301Z",
     "start_time": "2023-09-10T03:46:27.538290Z"
    }
   },
   "outputs": [],
   "source": [
    "len(tbl_names)"
   ]
  },
  {
   "cell_type": "code",
   "execution_count": null,
   "id": "65e26635",
   "metadata": {
    "ExecuteTime": {
     "end_time": "2023-09-10T03:46:27.648064Z",
     "start_time": "2023-09-10T03:46:27.560397Z"
    },
    "scrolled": true
   },
   "outputs": [],
   "source": [
    "i = 0\n",
    "print(tbl_names[i])\n",
    "tbls[tbl_names[i]]"
   ]
  },
  {
   "cell_type": "markdown",
   "id": "4e2158e3",
   "metadata": {},
   "source": [
    "### Combine"
   ]
  },
  {
   "cell_type": "code",
   "execution_count": null,
   "id": "a9ba548d",
   "metadata": {
    "ExecuteTime": {
     "end_time": "2023-09-10T03:46:27.664056Z",
     "start_time": "2023-09-10T03:46:27.648064Z"
    }
   },
   "outputs": [],
   "source": [
    "# Combine all processed tables into a single table\n",
    "citi_credit_comb = pd.DataFrame()\n",
    "for key in tbls.keys():\n",
    "    citi_credit_comb = pd.concat([citi_credit_comb, tbls[key]], axis=0)\n",
    "    \n",
    "citi_credit_comb = citi_credit_comb.reset_index(drop=True)\n",
    "citi_credit_comb.sort_values(by='Date', inplace=True)"
   ]
  },
  {
   "cell_type": "code",
   "execution_count": null,
   "id": "ac656f0e",
   "metadata": {
    "ExecuteTime": {
     "end_time": "2023-09-10T03:46:27.703857Z",
     "start_time": "2023-09-10T03:46:27.664056Z"
    }
   },
   "outputs": [],
   "source": [
    "citi_credit_comb.info()"
   ]
  },
  {
   "cell_type": "code",
   "execution_count": null,
   "id": "3dce1663",
   "metadata": {
    "ExecuteTime": {
     "end_time": "2023-09-10T03:46:27.718462Z",
     "start_time": "2023-09-10T03:46:27.704660Z"
    }
   },
   "outputs": [],
   "source": [
    "citi_credit_comb['Date'].min(), citi_credit_comb['Date'].max()"
   ]
  },
  {
   "cell_type": "code",
   "execution_count": null,
   "id": "84a21767",
   "metadata": {
    "ExecuteTime": {
     "end_time": "2023-09-10T03:46:27.733004Z",
     "start_time": "2023-09-10T03:46:27.718462Z"
    },
    "scrolled": false
   },
   "outputs": [],
   "source": [
    "citi_credit_comb.head()"
   ]
  },
  {
   "cell_type": "markdown",
   "id": "6fdc966f",
   "metadata": {},
   "source": [
    "### Save"
   ]
  },
  {
   "cell_type": "code",
   "execution_count": null,
   "id": "0405ee79",
   "metadata": {
    "ExecuteTime": {
     "end_time": "2023-09-10T03:46:27.841703Z",
     "start_time": "2023-09-10T03:46:27.733004Z"
    }
   },
   "outputs": [],
   "source": [
    "citi_credit_comb.to_excel(FINAL_PATH+'Citi_Credit.xlsx')"
   ]
  },
  {
   "cell_type": "code",
   "execution_count": null,
   "id": "cb73a0b6",
   "metadata": {},
   "outputs": [],
   "source": []
  },
  {
   "cell_type": "markdown",
   "id": "7cc35d4f",
   "metadata": {},
   "source": [
    "## DBS"
   ]
  },
  {
   "cell_type": "code",
   "execution_count": null,
   "id": "f67bdfcf",
   "metadata": {
    "ExecuteTime": {
     "end_time": "2023-09-10T03:46:27.857933Z",
     "start_time": "2023-09-10T03:46:27.841964Z"
    }
   },
   "outputs": [],
   "source": [
    "dbs_files = [i for i in os.listdir(DBS_PATH)]\n",
    "dbs_files.sort()"
   ]
  },
  {
   "cell_type": "code",
   "execution_count": null,
   "id": "48f23296",
   "metadata": {
    "ExecuteTime": {
     "end_time": "2023-09-10T03:46:32.585911Z",
     "start_time": "2023-09-10T03:46:27.857933Z"
    },
    "scrolled": true
   },
   "outputs": [],
   "source": [
    "%%time\n",
    "\n",
    "# Save all processed tables into a dictionary, of which key is the table name, value is the table\n",
    "tbls = dict()\n",
    "tbl_names = []\n",
    "for file in dbs_files:\n",
    "    print(file)\n",
    "    \n",
    "    dbs_file = DBS_PATH + file\n",
    "    \n",
    "    # Define page_range\n",
    "    tmp = open(dbs_file, 'rb')\n",
    "    pdfReader = PyPDF2.PdfFileReader(tmp)\n",
    "    maxpage = pdfReader.numPages\n",
    "    \n",
    "    tbl = convert_df(dbs_file, page_range=[i for i in range(2, maxpage)], bank='DBS')\n",
    "        \n",
    "    tbl = post_process(tbl, bank='DBS')\n",
    "    tbl['Date'] = pd.to_datetime(tbl['Date'], yearfirst=True)\n",
    "    \n",
    "    tbl_names.append(file[:-4])\n",
    "    tbls[file[:-4]] = tbl"
   ]
  },
  {
   "cell_type": "markdown",
   "id": "e6fcab38",
   "metadata": {},
   "source": [
    "### Validate"
   ]
  },
  {
   "cell_type": "code",
   "execution_count": null,
   "id": "11768c1a",
   "metadata": {
    "ExecuteTime": {
     "end_time": "2023-09-10T03:46:32.673139Z",
     "start_time": "2023-09-10T03:46:32.599218Z"
    },
    "scrolled": true
   },
   "outputs": [],
   "source": [
    "len(tbls)"
   ]
  },
  {
   "cell_type": "code",
   "execution_count": null,
   "id": "bac5b644",
   "metadata": {
    "ExecuteTime": {
     "end_time": "2023-09-10T03:46:32.716280Z",
     "start_time": "2023-09-10T03:46:32.676485Z"
    },
    "scrolled": true
   },
   "outputs": [],
   "source": [
    "i = 0\n",
    "print(tbl_names[i])\n",
    "tbls[tbl_names[i]]"
   ]
  },
  {
   "cell_type": "markdown",
   "id": "7cb6760a",
   "metadata": {},
   "source": [
    "### Combine"
   ]
  },
  {
   "cell_type": "code",
   "execution_count": null,
   "id": "e0112bbf",
   "metadata": {
    "ExecuteTime": {
     "end_time": "2023-09-10T03:46:32.741924Z",
     "start_time": "2023-09-10T03:46:32.716848Z"
    }
   },
   "outputs": [],
   "source": [
    "# Combine all processed tables into a single table\n",
    "dbs_comb = pd.DataFrame()\n",
    "for key in tbls.keys():\n",
    "    dbs_comb = pd.concat([dbs_comb, tbls[key]], axis=0)\n",
    "    \n",
    "dbs_comb = dbs_comb.reset_index(drop=True)\n",
    "dbs_comb.sort_values(by='Date', inplace=True)"
   ]
  },
  {
   "cell_type": "code",
   "execution_count": null,
   "id": "cff9fde0",
   "metadata": {
    "ExecuteTime": {
     "end_time": "2023-09-10T03:46:32.773832Z",
     "start_time": "2023-09-10T03:46:32.741924Z"
    },
    "scrolled": true
   },
   "outputs": [],
   "source": [
    "dbs_comb.info()"
   ]
  },
  {
   "cell_type": "code",
   "execution_count": null,
   "id": "66557dc3",
   "metadata": {
    "ExecuteTime": {
     "end_time": "2023-09-10T03:46:32.789825Z",
     "start_time": "2023-09-10T03:46:32.773832Z"
    }
   },
   "outputs": [],
   "source": [
    "dbs_comb['Date'].min(), dbs_comb['Date'].max()"
   ]
  },
  {
   "cell_type": "code",
   "execution_count": null,
   "id": "247892c5",
   "metadata": {
    "ExecuteTime": {
     "end_time": "2023-09-10T03:46:32.830435Z",
     "start_time": "2023-09-10T03:46:32.792854Z"
    }
   },
   "outputs": [],
   "source": [
    "dbs_comb.head()"
   ]
  },
  {
   "cell_type": "markdown",
   "id": "482347bb",
   "metadata": {},
   "source": [
    "### Save"
   ]
  },
  {
   "cell_type": "code",
   "execution_count": null,
   "id": "db7c1782",
   "metadata": {
    "ExecuteTime": {
     "end_time": "2023-09-10T03:46:32.933738Z",
     "start_time": "2023-09-10T03:46:32.830435Z"
    }
   },
   "outputs": [],
   "source": [
    "dbs_comb.to_excel(FINAL_PATH+'DBS.xlsx')"
   ]
  },
  {
   "cell_type": "code",
   "execution_count": null,
   "id": "d08723ae",
   "metadata": {},
   "outputs": [],
   "source": []
  },
  {
   "cell_type": "markdown",
   "id": "18bc80ce",
   "metadata": {},
   "source": [
    "## DBS Credit"
   ]
  },
  {
   "cell_type": "code",
   "execution_count": null,
   "id": "f4d045d5",
   "metadata": {
    "ExecuteTime": {
     "end_time": "2023-09-10T03:46:32.949750Z",
     "start_time": "2023-09-10T03:46:32.933738Z"
    }
   },
   "outputs": [],
   "source": [
    "dbs_cred_files = [i for i in os.listdir(DBS_CREDIT_PATH)]\n",
    "dbs_cred_files.sort()"
   ]
  },
  {
   "cell_type": "code",
   "execution_count": null,
   "id": "9eb77730",
   "metadata": {
    "ExecuteTime": {
     "end_time": "2023-09-10T03:46:34.649609Z",
     "start_time": "2023-09-10T03:46:32.949750Z"
    },
    "scrolled": true
   },
   "outputs": [],
   "source": [
    "%%time\n",
    "\n",
    "# Save all processed tables into a dictionary, of which key is the table name, value is the table\n",
    "tbls = dict()\n",
    "tbl_names = []\n",
    "for file in dbs_cred_files:\n",
    "    print(file)\n",
    "    \n",
    "    dbs_file = DBS_CREDIT_PATH + file\n",
    "    \n",
    "    # Define page_range\n",
    "    tmp = open(dbs_file, 'rb')\n",
    "    pdfReader = PyPDF2.PdfFileReader(tmp)\n",
    "    maxpage = pdfReader.numPages\n",
    "    \n",
    "    tbl = convert_df(dbs_file, page_range=[i for i in range(1, maxpage)], bank='DBS Credit')\n",
    "        \n",
    "    tbl = post_process(tbl, bank='DBS Credit')\n",
    "    \n",
    "    tbl_names.append(file[:-4])\n",
    "    tbls[file[:-4]] = tbl"
   ]
  },
  {
   "cell_type": "markdown",
   "id": "1b15fff2",
   "metadata": {},
   "source": [
    "### Validate"
   ]
  },
  {
   "cell_type": "code",
   "execution_count": null,
   "id": "2609d5cd",
   "metadata": {
    "ExecuteTime": {
     "end_time": "2023-09-10T03:46:34.672807Z",
     "start_time": "2023-09-10T03:46:34.652272Z"
    },
    "scrolled": true
   },
   "outputs": [],
   "source": [
    "len(tbls)"
   ]
  },
  {
   "cell_type": "code",
   "execution_count": null,
   "id": "f92eb020",
   "metadata": {
    "ExecuteTime": {
     "end_time": "2023-09-10T03:46:34.715030Z",
     "start_time": "2023-09-10T03:46:34.676654Z"
    },
    "scrolled": true
   },
   "outputs": [],
   "source": [
    "i = 0\n",
    "print(tbl_names[i])\n",
    "tbls[tbl_names[i]]"
   ]
  },
  {
   "cell_type": "code",
   "execution_count": null,
   "id": "2ccfaa58",
   "metadata": {},
   "outputs": [],
   "source": []
  },
  {
   "cell_type": "markdown",
   "id": "85210126",
   "metadata": {},
   "source": [
    "### Combine"
   ]
  },
  {
   "cell_type": "code",
   "execution_count": null,
   "id": "50486aff",
   "metadata": {
    "ExecuteTime": {
     "end_time": "2023-09-10T03:46:34.747521Z",
     "start_time": "2023-09-10T03:46:34.717102Z"
    }
   },
   "outputs": [],
   "source": [
    "#Combine all processed tables into a single table\n",
    "dbs_comb = pd.DataFrame()\n",
    "for key in tbls.keys():\n",
    "    dbs_comb = pd.concat([dbs_comb, tbls[key]], axis=0)\n",
    "    \n",
    "dbs_comb = dbs_comb.reset_index(drop=True)\n",
    "dbs_comb.sort_values(by='Date', inplace=True)"
   ]
  },
  {
   "cell_type": "code",
   "execution_count": null,
   "id": "f2fcb8fa",
   "metadata": {
    "ExecuteTime": {
     "end_time": "2023-09-10T03:46:34.772834Z",
     "start_time": "2023-09-10T03:46:34.751542Z"
    },
    "scrolled": true
   },
   "outputs": [],
   "source": [
    "dbs_comb.info()"
   ]
  },
  {
   "cell_type": "code",
   "execution_count": null,
   "id": "9d6abd13",
   "metadata": {
    "ExecuteTime": {
     "end_time": "2023-09-10T03:46:34.790918Z",
     "start_time": "2023-09-10T03:46:34.772834Z"
    }
   },
   "outputs": [],
   "source": [
    "dbs_comb['Date'].min(), dbs_comb['Date'].max()"
   ]
  },
  {
   "cell_type": "code",
   "execution_count": null,
   "id": "38d75f0d",
   "metadata": {
    "ExecuteTime": {
     "end_time": "2023-09-10T03:46:34.817147Z",
     "start_time": "2023-09-10T03:46:34.794577Z"
    }
   },
   "outputs": [],
   "source": [
    "dbs_comb.head()"
   ]
  },
  {
   "cell_type": "markdown",
   "id": "5ec429c2",
   "metadata": {},
   "source": [
    "### Save"
   ]
  },
  {
   "cell_type": "code",
   "execution_count": null,
   "id": "62d8c250",
   "metadata": {
    "ExecuteTime": {
     "end_time": "2023-09-10T03:46:34.899072Z",
     "start_time": "2023-09-10T03:46:34.817147Z"
    }
   },
   "outputs": [],
   "source": [
    "dbs_comb.to_excel(FINAL_PATH+'DBS_Credit.xlsx')"
   ]
  },
  {
   "cell_type": "code",
   "execution_count": null,
   "id": "3ed2481b",
   "metadata": {},
   "outputs": [],
   "source": []
  },
  {
   "cell_type": "markdown",
   "id": "da4eb072",
   "metadata": {},
   "source": [
    "## OCBC"
   ]
  },
  {
   "cell_type": "code",
   "execution_count": null,
   "id": "05190f15",
   "metadata": {
    "ExecuteTime": {
     "end_time": "2023-09-10T05:18:03.840226Z",
     "start_time": "2023-09-10T05:18:03.830008Z"
    }
   },
   "outputs": [],
   "source": [
    "ocbc_files = [i for i in os.listdir(OCBC_PATH) if i[:12] == 'Consolidated']\n",
    "ocbc_files.sort()"
   ]
  },
  {
   "cell_type": "code",
   "execution_count": null,
   "id": "f422649e",
   "metadata": {
    "ExecuteTime": {
     "end_time": "2023-09-10T05:20:00.219708Z",
     "start_time": "2023-09-10T05:19:55.253505Z"
    },
    "scrolled": true
   },
   "outputs": [],
   "source": [
    "%%time\n",
    "\n",
    "# Save all processed tables into a dictionary, of which key is the table name, value is the table\n",
    "tbls = dict()\n",
    "tbl_names = []\n",
    "error_list =  []\n",
    "for file in ocbc_files:\n",
    "    print(file)\n",
    "    \n",
    "    ocbc_file = OCBC_PATH + file\n",
    "    \n",
    "    # Define page_range\n",
    "    try:\n",
    "        tbl = convert_df(ocbc_file, page_range=[3,4], box=[3, 1, 27, 18], bank='OCBC')\n",
    "        tbl = post_process(tbl, bank='OCBC', file=file)\n",
    "        tbl['Date'] = pd.to_datetime(tbl['Date'], yearfirst=True)\n",
    "        tbl_names.append(file[-10:-4])\n",
    "        tbls[file[-10:-4]] = tbl\n",
    "    except:\n",
    "        print('Error in processing!!!')\n",
    "        error_list.append(ocbc_file)"
   ]
  },
  {
   "cell_type": "code",
   "execution_count": null,
   "id": "f311c308",
   "metadata": {},
   "outputs": [],
   "source": []
  },
  {
   "cell_type": "markdown",
   "id": "694a0f86",
   "metadata": {},
   "source": [
    "### Modification \n",
    "Due to Formatting Issues of Statements, the numbers of elements in date_col, desc_col, withdraw_col, depo_col are not matched for some statements "
   ]
  },
  {
   "cell_type": "code",
   "execution_count": null,
   "id": "ffa14c41",
   "metadata": {
    "ExecuteTime": {
     "end_time": "2023-09-10T05:20:06.785113Z",
     "start_time": "2023-09-10T05:20:06.769836Z"
    }
   },
   "outputs": [],
   "source": [
    "error_list"
   ]
  },
  {
   "cell_type": "code",
   "execution_count": null,
   "id": "61ce3a31",
   "metadata": {
    "ExecuteTime": {
     "end_time": "2023-09-10T06:14:03.037018Z",
     "start_time": "2023-09-10T06:14:02.211541Z"
    }
   },
   "outputs": [],
   "source": [
    "filepath = error_list[0]\n",
    "page = [3]\n",
    "date_col, desc_col, withdraw_col, depo_col, df = mod_ocbc_df(filepath, page, box=[3, 1, 27, 30])\n",
    "\n",
    "# Modification: Compare with original statements to correct the values\n",
    "date_col[7] = '27 AUG'\n",
    "date_col.remove('Co. Re')\n",
    "\n",
    "tbl = pd.DataFrame()\n",
    "tbl['Date'] = date_col\n",
    "tbl['Description'] = desc_col\n",
    "tbl['Withdraw'] = [float(str(i).replace(',','')) for i in withdraw_col]\n",
    "tbl['Deposite'] = [float(str(i).replace(',','')) for i in depo_col]\n",
    "tbl.fillna(0, inplace=True)\n",
    "\n",
    "tbl = post_process(tbl, bank='OCBC', file=file)\n",
    "tbl['Date'] = pd.to_datetime(tbl['Date'], yearfirst=True)\n",
    "        \n",
    "tbl_names.append(filepath.split('/')[-1][-10:-4])\n",
    "tbls[filepath.split('/')[-1][-10:-4]] = tbl"
   ]
  },
  {
   "cell_type": "code",
   "execution_count": null,
   "id": "cd9f781b",
   "metadata": {},
   "outputs": [],
   "source": []
  },
  {
   "cell_type": "markdown",
   "id": "5037a2e2",
   "metadata": {},
   "source": [
    "### Validate"
   ]
  },
  {
   "cell_type": "code",
   "execution_count": null,
   "id": "8355f394",
   "metadata": {
    "ExecuteTime": {
     "end_time": "2023-09-10T08:31:32.173252Z",
     "start_time": "2023-09-10T08:31:32.159076Z"
    }
   },
   "outputs": [],
   "source": [
    "len(tbls)"
   ]
  },
  {
   "cell_type": "code",
   "execution_count": null,
   "id": "b94875ca",
   "metadata": {
    "ExecuteTime": {
     "end_time": "2023-09-10T08:31:36.509896Z",
     "start_time": "2023-09-10T08:31:36.495855Z"
    },
    "scrolled": true
   },
   "outputs": [],
   "source": [
    "i = 0\n",
    "print(tbl_names[i])\n",
    "tbls[tbl_names[i]]"
   ]
  },
  {
   "cell_type": "code",
   "execution_count": null,
   "id": "9ef2598f",
   "metadata": {},
   "outputs": [],
   "source": []
  },
  {
   "cell_type": "markdown",
   "id": "fd350a4d",
   "metadata": {},
   "source": [
    "### Combine"
   ]
  },
  {
   "cell_type": "code",
   "execution_count": null,
   "id": "ea469304",
   "metadata": {
    "ExecuteTime": {
     "end_time": "2023-09-10T08:31:40.145591Z",
     "start_time": "2023-09-10T08:31:40.123517Z"
    }
   },
   "outputs": [],
   "source": [
    "# Combine all processed tables into a single table\n",
    "ocbc_comb = pd.DataFrame()\n",
    "for key in tbls.keys():\n",
    "    ocbc_comb = pd.concat([ocbc_comb, tbls[key]], axis=0)\n",
    "    \n",
    "ocbc_comb = ocbc_comb.reset_index(drop=True)\n",
    "ocbc_comb.sort_values(by='Date', inplace=True)"
   ]
  },
  {
   "cell_type": "code",
   "execution_count": null,
   "id": "528f45ac",
   "metadata": {
    "ExecuteTime": {
     "end_time": "2023-09-10T08:31:42.195530Z",
     "start_time": "2023-09-10T08:31:42.169030Z"
    },
    "scrolled": true
   },
   "outputs": [],
   "source": [
    "ocbc_comb.info()"
   ]
  },
  {
   "cell_type": "code",
   "execution_count": null,
   "id": "0b14adf3",
   "metadata": {
    "ExecuteTime": {
     "end_time": "2023-09-10T08:31:42.210827Z",
     "start_time": "2023-09-10T08:31:42.197805Z"
    }
   },
   "outputs": [],
   "source": [
    "ocbc_comb['Date'].min(), ocbc_comb['Date'].max()"
   ]
  },
  {
   "cell_type": "code",
   "execution_count": null,
   "id": "fa9ee9f8",
   "metadata": {
    "ExecuteTime": {
     "end_time": "2023-09-10T08:31:42.240177Z",
     "start_time": "2023-09-10T08:31:42.212820Z"
    }
   },
   "outputs": [],
   "source": [
    "ocbc_comb.head()"
   ]
  },
  {
   "cell_type": "markdown",
   "id": "9445242a",
   "metadata": {},
   "source": [
    "### Save"
   ]
  },
  {
   "cell_type": "code",
   "execution_count": null,
   "id": "05cc8398",
   "metadata": {
    "ExecuteTime": {
     "end_time": "2023-09-10T08:31:48.425769Z",
     "start_time": "2023-09-10T08:31:48.343232Z"
    }
   },
   "outputs": [],
   "source": [
    "ocbc_comb.to_excel(FINAL_PATH+'OCBC.xlsx')"
   ]
  },
  {
   "cell_type": "code",
   "execution_count": null,
   "id": "07ec147c",
   "metadata": {},
   "outputs": [],
   "source": []
  },
  {
   "cell_type": "code",
   "execution_count": null,
   "id": "a27ba546",
   "metadata": {},
   "outputs": [],
   "source": []
  },
  {
   "cell_type": "code",
   "execution_count": null,
   "id": "5605ca59",
   "metadata": {},
   "outputs": [],
   "source": []
  }
 ],
 "metadata": {
  "kernelspec": {
   "display_name": "Python 3 (ipykernel)",
   "language": "python",
   "name": "python3"
  },
  "language_info": {
   "codemirror_mode": {
    "name": "ipython",
    "version": 3
   },
   "file_extension": ".py",
   "mimetype": "text/x-python",
   "name": "python",
   "nbconvert_exporter": "python",
   "pygments_lexer": "ipython3",
   "version": "3.9.12"
  },
  "toc": {
   "base_numbering": 1,
   "nav_menu": {},
   "number_sections": true,
   "sideBar": true,
   "skip_h1_title": false,
   "title_cell": "Table of Contents",
   "title_sidebar": "Contents",
   "toc_cell": false,
   "toc_position": {
    "height": "calc(100% - 180px)",
    "left": "10px",
    "top": "150px",
    "width": "288px"
   },
   "toc_section_display": true,
   "toc_window_display": true
  }
 },
 "nbformat": 4,
 "nbformat_minor": 5
}
